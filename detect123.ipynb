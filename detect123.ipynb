{
 "cells": [
  {
   "cell_type": "code",
   "execution_count": 1,
   "metadata": {},
   "outputs": [
    {
     "name": "stdout",
     "output_type": "stream",
     "text": [
      "Cloning into 'yolov5'...\n",
      "remote: Enumerating objects: 12371, done.\u001b[K\n",
      "remote: Counting objects: 100% (36/36), done.\u001b[K\n",
      "remote: Compressing objects: 100% (31/31), done.\u001b[K\n",
      "remote: Total 12371 (delta 20), reused 13 (delta 5), pack-reused 12335\u001b[K\n",
      "Receiving objects: 100% (12371/12371), 12.19 MiB | 305.00 KiB/s, done.\n",
      "Resolving deltas: 100% (8534/8534), done.\n"
     ]
    }
   ],
   "source": [
    "!git clone https://github.com/ultralytics/yolov5.git"
   ]
  },
  {
   "cell_type": "code",
   "execution_count": 2,
   "metadata": {},
   "outputs": [
    {
     "name": "stdout",
     "output_type": "stream",
     "text": [
      "/home/sourav/Documents/Image Segmentstion and object detection using pixellib/9rcv8mm682-1/Safety Helmet Wearing Dataset/yolov5\n"
     ]
    }
   ],
   "source": [
    "%cd yolov5/"
   ]
  },
  {
   "cell_type": "code",
   "execution_count": 3,
   "metadata": {},
   "outputs": [
    {
     "name": "stdout",
     "output_type": "stream",
     "text": [
      "Requirement already up-to-date: matplotlib>=3.2.2 in /home/sourav/.local/lib/python3.8/site-packages (from -r requirements.txt (line 5)) (3.5.2)\n",
      "Requirement already up-to-date: numpy>=1.18.5 in /home/sourav/.local/lib/python3.8/site-packages (from -r requirements.txt (line 6)) (1.23.0)\n",
      "Requirement already up-to-date: opencv-python>=4.1.1 in /home/sourav/.local/lib/python3.8/site-packages (from -r requirements.txt (line 7)) (4.6.0.66)\n",
      "Collecting Pillow>=7.1.2\n",
      "  Using cached Pillow-9.1.1-cp38-cp38-manylinux_2_17_x86_64.manylinux2014_x86_64.whl (3.1 MB)\n",
      "Collecting PyYAML>=5.3.1\n",
      "  Using cached PyYAML-6.0-cp38-cp38-manylinux_2_5_x86_64.manylinux1_x86_64.manylinux_2_12_x86_64.manylinux2010_x86_64.whl (701 kB)\n",
      "Collecting requests>=2.23.0\n",
      "  Using cached requests-2.28.1-py3-none-any.whl (62 kB)\n",
      "Requirement already up-to-date: scipy>=1.4.1 in /home/sourav/.local/lib/python3.8/site-packages (from -r requirements.txt (line 11)) (1.8.1)\n",
      "Collecting torch>=1.7.0\n",
      "  Downloading torch-1.12.0-cp38-cp38-manylinux1_x86_64.whl (776.3 MB)\n",
      "\u001b[K     |█▊                              | 41.4 MB 475 kB/s eta 0:25:47     |▉                               | 21.2 MB 202 kB/s eta 1:02:19     |█▌                              | 36.6 MB 61 kB/s eta 3:19:03"
     ]
    }
   ],
   "source": [
    "!pip3 install -U -r requirements.txt"
   ]
  },
  {
   "cell_type": "code",
   "execution_count": null,
   "metadata": {},
   "outputs": [],
   "source": [
    "!pip detect.py"
   ]
  }
 ],
 "metadata": {
  "kernelspec": {
   "display_name": "Python 3.8.10 64-bit",
   "language": "python",
   "name": "python3"
  },
  "language_info": {
   "codemirror_mode": {
    "name": "ipython",
    "version": 3
   },
   "file_extension": ".py",
   "mimetype": "text/x-python",
   "name": "python",
   "nbconvert_exporter": "python",
   "pygments_lexer": "ipython3",
   "version": "3.8.10"
  },
  "orig_nbformat": 4,
  "vscode": {
   "interpreter": {
    "hash": "916dbcbb3f70747c44a77c7bcd40155683ae19c65e1c03b4aa3499c5328201f1"
   }
  }
 },
 "nbformat": 4,
 "nbformat_minor": 2
}
